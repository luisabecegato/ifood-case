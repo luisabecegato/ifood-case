{
  "nbformat": 4,
  "nbformat_minor": 0,
  "metadata": {
    "colab": {
      "provenance": []
    },
    "kernelspec": {
      "name": "python3",
      "display_name": "Python 3"
    },
    "language_info": {
      "name": "python"
    }
  },
  "cells": [
    {
      "cell_type": "code",
      "execution_count": 1,
      "metadata": {
        "colab": {
          "base_uri": "https://localhost:8080/"
        },
        "id": "2fTr8nlXoNTT",
        "outputId": "177279ba-5937-44f6-a56a-d73900d7b438"
      },
      "outputs": [
        {
          "output_type": "stream",
          "name": "stdout",
          "text": [
            "  % Total    % Received % Xferd  Average Speed   Time    Time     Time  Current\n",
            "                                 Dload  Upload   Total   Spent    Left  Speed\n",
            "100  285M  100  285M    0     0  1130k      0  0:04:18  0:04:18 --:--:-- 1295k\n"
          ]
        }
      ],
      "source": [
        "# Instala Java\n",
        "!apt-get install openjdk-8-jdk-headless -qq > /dev/null\n",
        "\n",
        "# Baixa e extrai Spark\n",
        "!curl -L -o spark.tgz https://archive.apache.org/dist/spark/spark-3.3.2/spark-3.3.2-bin-hadoop3.tgz\n",
        "!tar -xzf spark.tgz\n",
        "\n",
        "# Instala findspark\n",
        "!pip install -q findspark\n",
        "\n",
        "# Configura variáveis de ambiente\n",
        "import os\n",
        "os.environ[\"JAVA_HOME\"] = \"/usr/lib/jvm/java-8-openjdk-amd64\"\n",
        "os.environ[\"SPARK_HOME\"] = \"/content/spark-3.3.2-bin-hadoop3\"\n",
        "\n",
        "import findspark\n",
        "findspark.init()\n"
      ]
    },
    {
      "cell_type": "code",
      "source": [
        "from pyspark.sql import SparkSession\n",
        "\n",
        "spark = SparkSession.builder \\\n",
        "    .appName(\"iFood Case - Data Processing\") \\\n",
        "    .getOrCreate()\n"
      ],
      "metadata": {
        "id": "52yaICsOokVf"
      },
      "execution_count": 2,
      "outputs": []
    },
    {
      "cell_type": "code",
      "source": [
        "offers_df = spark.read.json(\"offers.json\")\n",
        "profile_df = spark.read.json(\"profile.json\")\n",
        "transactions_df = spark.read.json(\"transactions.json\")"
      ],
      "metadata": {
        "id": "cm7slyZYp1YB"
      },
      "execution_count": 3,
      "outputs": []
    },
    {
      "cell_type": "code",
      "source": [
        "offers_df.printSchema()\n",
        "profile_df.printSchema()\n",
        "transactions_df.printSchema()\n"
      ],
      "metadata": {
        "id": "961pst5ap7co",
        "colab": {
          "base_uri": "https://localhost:8080/"
        },
        "outputId": "be90d3b9-2a21-45bf-a617-fd630731903b"
      },
      "execution_count": 4,
      "outputs": [
        {
          "output_type": "stream",
          "name": "stdout",
          "text": [
            "root\n",
            " |-- channels: array (nullable = true)\n",
            " |    |-- element: string (containsNull = true)\n",
            " |-- discount_value: long (nullable = true)\n",
            " |-- duration: double (nullable = true)\n",
            " |-- id: string (nullable = true)\n",
            " |-- min_value: long (nullable = true)\n",
            " |-- offer_type: string (nullable = true)\n",
            "\n",
            "root\n",
            " |-- age: long (nullable = true)\n",
            " |-- credit_card_limit: double (nullable = true)\n",
            " |-- gender: string (nullable = true)\n",
            " |-- id: string (nullable = true)\n",
            " |-- registered_on: string (nullable = true)\n",
            "\n",
            "root\n",
            " |-- account_id: string (nullable = true)\n",
            " |-- event: string (nullable = true)\n",
            " |-- time_since_test_start: double (nullable = true)\n",
            " |-- value: struct (nullable = true)\n",
            " |    |-- amount: double (nullable = true)\n",
            " |    |-- offer id: string (nullable = true)\n",
            " |    |-- offer_id: string (nullable = true)\n",
            " |    |-- reward: double (nullable = true)\n",
            "\n"
          ]
        }
      ]
    },
    {
      "cell_type": "code",
      "source": [
        "'''\n",
        "offers_df.show(5, truncate=False)\n",
        "profile_df.show(5, truncate=False)\n",
        "transactions_df.show(5, truncate=False)\n",
        "'''"
      ],
      "metadata": {
        "id": "L5PRl0TZqDW-",
        "colab": {
          "base_uri": "https://localhost:8080/",
          "height": 52
        },
        "outputId": "84fff4ba-80d5-4271-eec7-d8cdc5288972"
      },
      "execution_count": 5,
      "outputs": [
        {
          "output_type": "execute_result",
          "data": {
            "text/plain": [
              "'\\noffers_df.show(5, truncate=False)\\nprofile_df.show(5, truncate=False)\\ntransactions_df.show(5, truncate=False)\\n'"
            ],
            "application/vnd.google.colaboratory.intrinsic+json": {
              "type": "string"
            }
          },
          "metadata": {},
          "execution_count": 5
        }
      ]
    },
    {
      "cell_type": "markdown",
      "source": [
        "Esse erro do transactions_df.show() do PySpark indica que o arquivo .json tem linhas corrompidas ou malformadas.\n",
        "Por segurança, ele joga essas linhas problemáticas na coluna chamada \"_corrupt_record\".\n",
        "Vou ler o arquivo em modo permissivo a seguir e ver onde estão os erros\n"
      ],
      "metadata": {
        "id": "QkWbTlxpi3PS"
      }
    },
    {
      "cell_type": "code",
      "source": [
        "transactions_df = spark.read \\\n",
        "    .option(\"mode\", \"PERMISSIVE\") \\\n",
        "    .option(\"columnNameOfCorruptRecord\", \"_corrupt_record\") \\\n",
        "    .json(\"transactions.json\")\n",
        "\n",
        "transactions_df.show(5, truncate=False)\n"
      ],
      "metadata": {
        "colab": {
          "base_uri": "https://localhost:8080/"
        },
        "id": "xaiYzKuQiNU3",
        "outputId": "7beaf4e8-d24a-47d8-a4aa-32611092d9c3"
      },
      "execution_count": 6,
      "outputs": [
        {
          "output_type": "stream",
          "name": "stdout",
          "text": [
            "+--------------------------------+--------------+---------------------+----------------------------------------------------+\n",
            "|account_id                      |event         |time_since_test_start|value                                               |\n",
            "+--------------------------------+--------------+---------------------+----------------------------------------------------+\n",
            "|78afa995795e4d85b5d9ceeca43f5fef|offer received|0.0                  |{null, 9b98b8c7a33c4b65b9aebfe6a799e6d9, null, null}|\n",
            "|a03223e636434f42ac4c3df47e8bac43|offer received|0.0                  |{null, 0b1e1539f2cc45b7b9fa7c272da2e1d7, null, null}|\n",
            "|e2127556f4f64592b11af22de27a7932|offer received|0.0                  |{null, 2906b810c7d4411798c6938adc9daaa5, null, null}|\n",
            "|8ec6ce2a7e7949b1bf142def7d0e0586|offer received|0.0                  |{null, fafdcd668e3743c1bb461111dcafc2a4, null, null}|\n",
            "|68617ca6246f4fbc85e91a2a49552598|offer received|0.0                  |{null, 4d5c57ea9a6940dd891ad53e9dbe8da0, null, null}|\n",
            "+--------------------------------+--------------+---------------------+----------------------------------------------------+\n",
            "only showing top 5 rows\n",
            "\n"
          ]
        }
      ]
    },
    {
      "cell_type": "code",
      "source": [
        "#transactions_df.filter(transactions_df[\"_corrupt_record\"].isNotNull()).count()"
      ],
      "metadata": {
        "id": "j5_jfxZxiVuh"
      },
      "execution_count": 7,
      "outputs": []
    },
    {
      "cell_type": "code",
      "source": [
        "transactions_df.select(\"event\").distinct().show()"
      ],
      "metadata": {
        "colab": {
          "base_uri": "https://localhost:8080/"
        },
        "id": "jmqvtM0glmLf",
        "outputId": "34cc9bae-9e43-4124-f35a-c3c3e8036ee3"
      },
      "execution_count": 8,
      "outputs": [
        {
          "output_type": "stream",
          "name": "stdout",
          "text": [
            "+---------------+\n",
            "|          event|\n",
            "+---------------+\n",
            "|    transaction|\n",
            "| offer received|\n",
            "|offer completed|\n",
            "|   offer viewed|\n",
            "+---------------+\n",
            "\n"
          ]
        }
      ]
    },
    {
      "cell_type": "code",
      "source": [
        "trans_df = transactions_df.filter(transactions_df[\"event\"] == \"transaction\")\n",
        "trans_df.show(5, truncate=False)"
      ],
      "metadata": {
        "colab": {
          "base_uri": "https://localhost:8080/"
        },
        "id": "DhdWTVqAmI5w",
        "outputId": "b98512ea-f7fa-437a-c4b0-37a825a33c7d"
      },
      "execution_count": 9,
      "outputs": [
        {
          "output_type": "stream",
          "name": "stdout",
          "text": [
            "+--------------------------------+-----------+---------------------+-------------------------+\n",
            "|account_id                      |event      |time_since_test_start|value                    |\n",
            "+--------------------------------+-----------+---------------------+-------------------------+\n",
            "|02c083884c7d45b39cc68e1314fec56c|transaction|0.0                  |{0.83, null, null, null} |\n",
            "|9fa9ae8f57894cc9a3b8a9bbe0fc1b2f|transaction|0.0                  |{34.56, null, null, null}|\n",
            "|54890f68699049c2a04d415abc25e717|transaction|0.0                  |{13.23, null, null, null}|\n",
            "|b2f1cd155b864803ad8334cdf13c4bd2|transaction|0.0                  |{19.51, null, null, null}|\n",
            "|fe97aa22dd3e48c8b143116a8403dd52|transaction|0.0                  |{18.97, null, null, null}|\n",
            "+--------------------------------+-----------+---------------------+-------------------------+\n",
            "only showing top 5 rows\n",
            "\n"
          ]
        }
      ]
    },
    {
      "cell_type": "code",
      "source": [
        "received_df = transactions_df.filter(transactions_df[\"event\"] == \"offer received\")\n",
        "received_df.show(5, truncate=False)"
      ],
      "metadata": {
        "colab": {
          "base_uri": "https://localhost:8080/"
        },
        "id": "_v2FzKPJmPCa",
        "outputId": "dd0dd03f-51df-437c-e4f3-f5e0b89b47ef"
      },
      "execution_count": 10,
      "outputs": [
        {
          "output_type": "stream",
          "name": "stdout",
          "text": [
            "+--------------------------------+--------------+---------------------+----------------------------------------------------+\n",
            "|account_id                      |event         |time_since_test_start|value                                               |\n",
            "+--------------------------------+--------------+---------------------+----------------------------------------------------+\n",
            "|78afa995795e4d85b5d9ceeca43f5fef|offer received|0.0                  |{null, 9b98b8c7a33c4b65b9aebfe6a799e6d9, null, null}|\n",
            "|a03223e636434f42ac4c3df47e8bac43|offer received|0.0                  |{null, 0b1e1539f2cc45b7b9fa7c272da2e1d7, null, null}|\n",
            "|e2127556f4f64592b11af22de27a7932|offer received|0.0                  |{null, 2906b810c7d4411798c6938adc9daaa5, null, null}|\n",
            "|8ec6ce2a7e7949b1bf142def7d0e0586|offer received|0.0                  |{null, fafdcd668e3743c1bb461111dcafc2a4, null, null}|\n",
            "|68617ca6246f4fbc85e91a2a49552598|offer received|0.0                  |{null, 4d5c57ea9a6940dd891ad53e9dbe8da0, null, null}|\n",
            "+--------------------------------+--------------+---------------------+----------------------------------------------------+\n",
            "only showing top 5 rows\n",
            "\n"
          ]
        }
      ]
    },
    {
      "cell_type": "code",
      "source": [
        "viewed_df = transactions_df.filter(transactions_df[\"event\"] == \"offer viewed\")\n",
        "viewed_df.show(5, truncate=False)"
      ],
      "metadata": {
        "colab": {
          "base_uri": "https://localhost:8080/"
        },
        "id": "y9XqzCy2mRuh",
        "outputId": "c2d516a3-6075-44ef-fa26-9530e0a7ee57"
      },
      "execution_count": 11,
      "outputs": [
        {
          "output_type": "stream",
          "name": "stdout",
          "text": [
            "+--------------------------------+------------+---------------------+----------------------------------------------------+\n",
            "|account_id                      |event       |time_since_test_start|value                                               |\n",
            "+--------------------------------+------------+---------------------+----------------------------------------------------+\n",
            "|389bc3fa690240e798340f5a15918d5c|offer viewed|0.0                  |{null, f19421c1d4aa40978ebb69ca19b0e20d, null, null}|\n",
            "|d1ede868e29245ea91818a903fec04c6|offer viewed|0.0                  |{null, 5a8bc65990b245e5a138643cd4eb9837, null, null}|\n",
            "|102e9454054946fda62242d2e176fdce|offer viewed|0.0                  |{null, 4d5c57ea9a6940dd891ad53e9dbe8da0, null, null}|\n",
            "|02c083884c7d45b39cc68e1314fec56c|offer viewed|0.0                  |{null, ae264e3637204a6fb9bb56bc8210ddfd, null, null}|\n",
            "|be8a5d1981a2458d90b255ddc7e0d174|offer viewed|0.0                  |{null, 5a8bc65990b245e5a138643cd4eb9837, null, null}|\n",
            "+--------------------------------+------------+---------------------+----------------------------------------------------+\n",
            "only showing top 5 rows\n",
            "\n"
          ]
        }
      ]
    },
    {
      "cell_type": "code",
      "source": [
        "completed_df = transactions_df.filter(transactions_df[\"event\"] == \"offer completed\")\n",
        "completed_df.show(5, truncate=False)"
      ],
      "metadata": {
        "colab": {
          "base_uri": "https://localhost:8080/"
        },
        "id": "qzrnc8G4mWzB",
        "outputId": "085f84bf-02f0-476b-90a9-5789043f5d87"
      },
      "execution_count": 12,
      "outputs": [
        {
          "output_type": "stream",
          "name": "stdout",
          "text": [
            "+--------------------------------+---------------+---------------------+----------------------------------------------------+\n",
            "|account_id                      |event          |time_since_test_start|value                                               |\n",
            "+--------------------------------+---------------+---------------------+----------------------------------------------------+\n",
            "|9fa9ae8f57894cc9a3b8a9bbe0fc1b2f|offer completed|0.0                  |{null, null, 2906b810c7d4411798c6938adc9daaa5, 2.0} |\n",
            "|fe97aa22dd3e48c8b143116a8403dd52|offer completed|0.0                  |{null, null, fafdcd668e3743c1bb461111dcafc2a4, 2.0} |\n",
            "|629fc02d56414d91bca360decdfa9288|offer completed|0.0                  |{null, null, 9b98b8c7a33c4b65b9aebfe6a799e6d9, 5.0} |\n",
            "|676506bad68e4161b9bbaffeb039626b|offer completed|0.0                  |{null, null, ae264e3637204a6fb9bb56bc8210ddfd, 10.0}|\n",
            "|8f7dd3b2afe14c078eb4f6e6fe4ba97d|offer completed|0.0                  |{null, null, 4d5c57ea9a6940dd891ad53e9dbe8da0, 10.0}|\n",
            "+--------------------------------+---------------+---------------------+----------------------------------------------------+\n",
            "only showing top 5 rows\n",
            "\n"
          ]
        }
      ]
    },
    {
      "cell_type": "code",
      "source": [
        "received_df = received_df.withColumn(\"offer_id\", received_df[\"value\"][\"offer id\"])"
      ],
      "metadata": {
        "id": "g7WicmqGnkcf"
      },
      "execution_count": 13,
      "outputs": []
    },
    {
      "cell_type": "code",
      "source": [
        "viewed_df = viewed_df.withColumn(\"offer_id\", viewed_df[\"value\"][\"offer id\"])"
      ],
      "metadata": {
        "id": "xF_avkEFnkd5"
      },
      "execution_count": 14,
      "outputs": []
    },
    {
      "cell_type": "code",
      "source": [
        "completed_df = completed_df.withColumn(\"offer_id\", completed_df[\"value\"][\"offer_id\"]) \\\n",
        "                           .withColumn(\"reward\", completed_df[\"value\"][\"reward\"])"
      ],
      "metadata": {
        "id": "dC3GRv7GnnqH"
      },
      "execution_count": 15,
      "outputs": []
    },
    {
      "cell_type": "code",
      "source": [
        "trans_df = trans_df.withColumn(\"amount\", trans_df[\"value\"][\"amount\"])"
      ],
      "metadata": {
        "id": "rBAhSXr6np-W"
      },
      "execution_count": 16,
      "outputs": []
    },
    {
      "cell_type": "code",
      "source": [
        "base_df = received_df.select(\n",
        "    \"account_id\",\n",
        "    \"offer_id\",\n",
        "    \"time_since_test_start\"\n",
        ").withColumnRenamed(\"time_since_test_start\", \"received_time\")"
      ],
      "metadata": {
        "id": "I2y8tXAaoJy1"
      },
      "execution_count": 17,
      "outputs": []
    },
    {
      "cell_type": "code",
      "source": [
        "viewed_df = viewed_df.select(\n",
        "    \"account_id\",\n",
        "    \"offer_id\",\n",
        "    \"time_since_test_start\"\n",
        ").withColumnRenamed(\"time_since_test_start\", \"viewed_time\")\n",
        "\n",
        "base_df = base_df.join(viewed_df, [\"account_id\", \"offer_id\"], how=\"left\")\n"
      ],
      "metadata": {
        "id": "1erkXdMHoJ0c"
      },
      "execution_count": 18,
      "outputs": []
    },
    {
      "cell_type": "code",
      "source": [
        "completed_df = completed_df.select(\n",
        "    \"account_id\",\n",
        "    \"offer_id\",\n",
        "    \"time_since_test_start\",\n",
        "    \"reward\"\n",
        ").withColumnRenamed(\"time_since_test_start\", \"completed_time\")\n",
        "\n",
        "base_df = base_df.join(completed_df, [\"account_id\", \"offer_id\"], how=\"left\")"
      ],
      "metadata": {
        "id": "FDnuwGIboOwP"
      },
      "execution_count": 19,
      "outputs": []
    },
    {
      "cell_type": "code",
      "source": [
        "from pyspark.sql.functions import when\n",
        "\n",
        "base_df = base_df.withColumn(\"foi_visualizada\", when(base_df[\"viewed_time\"].isNotNull(), 1).otherwise(0))\n",
        "base_df = base_df.withColumn(\"foi_completada\", when(base_df[\"completed_time\"].isNotNull(), 1).otherwise(0))\n"
      ],
      "metadata": {
        "id": "KQvT-f1GpcPH"
      },
      "execution_count": 20,
      "outputs": []
    },
    {
      "cell_type": "code",
      "source": [
        "from pyspark.sql.functions import round\n",
        "\n",
        "base_df = base_df.withColumn(\"tempo_ate_visualizacao\", round(base_df[\"viewed_time\"] - base_df[\"received_time\"], 2))\n",
        "base_df = base_df.withColumn(\"tempo_ate_completamento\", round(base_df[\"completed_time\"] - base_df[\"received_time\"], 2))\n"
      ],
      "metadata": {
        "id": "GLLJzZ8opeoJ"
      },
      "execution_count": 21,
      "outputs": []
    },
    {
      "cell_type": "code",
      "source": [
        "base_df.select(\n",
        "    \"account_id\", \"offer_id\",\n",
        "    \"received_time\", \"viewed_time\", \"completed_time\",\n",
        "    \"foi_visualizada\", \"foi_completada\",\n",
        "    \"tempo_ate_visualizacao\", \"tempo_ate_completamento\"\n",
        ").show(10, truncate=False)\n"
      ],
      "metadata": {
        "colab": {
          "base_uri": "https://localhost:8080/"
        },
        "id": "iwwzG7Qjpg5i",
        "outputId": "3c0d1669-aee5-45ef-d823-21fa7dda70fe"
      },
      "execution_count": 22,
      "outputs": [
        {
          "output_type": "stream",
          "name": "stdout",
          "text": [
            "+--------------------------------+--------------------------------+-------------+-----------+--------------+---------------+--------------+----------------------+-----------------------+\n",
            "|account_id                      |offer_id                        |received_time|viewed_time|completed_time|foi_visualizada|foi_completada|tempo_ate_visualizacao|tempo_ate_completamento|\n",
            "+--------------------------------+--------------------------------+-------------+-----------+--------------+---------------+--------------+----------------------+-----------------------+\n",
            "|2eeac8d8feae4a8cad5a6af0499a211d|3f207df678b143eea3cee63160fa8bed|0.0          |null       |null          |0              |0             |null                  |null                   |\n",
            "|31dda685af34476cad5bc968bdb01c53|0b1e1539f2cc45b7b9fa7c272da2e1d7|0.0          |6.25       |null          |1              |0             |6.25                  |null                   |\n",
            "|389bc3fa690240e798340f5a15918d5c|f19421c1d4aa40978ebb69ca19b0e20d|0.0          |0.0        |25.0          |1              |1             |0.0                   |25.0                   |\n",
            "|389bc3fa690240e798340f5a15918d5c|f19421c1d4aa40978ebb69ca19b0e20d|0.0          |0.0        |2.5           |1              |1             |0.0                   |2.5                    |\n",
            "|389bc3fa690240e798340f5a15918d5c|f19421c1d4aa40978ebb69ca19b0e20d|0.0          |21.0       |25.0          |1              |1             |21.0                  |25.0                   |\n",
            "|389bc3fa690240e798340f5a15918d5c|f19421c1d4aa40978ebb69ca19b0e20d|0.0          |21.0       |2.5           |1              |1             |21.0                  |2.5                    |\n",
            "|68617ca6246f4fbc85e91a2a49552598|4d5c57ea9a6940dd891ad53e9dbe8da0|0.0          |3.5        |null          |1              |0             |3.5                   |null                   |\n",
            "|744d603ef08c4f33af5a61c8c7628d1c|0b1e1539f2cc45b7b9fa7c272da2e1d7|0.0          |2.0        |null          |1              |0             |2.0                   |null                   |\n",
            "|78afa995795e4d85b5d9ceeca43f5fef|9b98b8c7a33c4b65b9aebfe6a799e6d9|0.0          |0.25       |5.5           |1              |1             |0.25                  |5.5                    |\n",
            "|8ec6ce2a7e7949b1bf142def7d0e0586|fafdcd668e3743c1bb461111dcafc2a4|0.0          |0.5        |null          |1              |0             |0.5                   |null                   |\n",
            "+--------------------------------+--------------------------------+-------------+-----------+--------------+---------------+--------------+----------------------+-----------------------+\n",
            "only showing top 10 rows\n",
            "\n"
          ]
        }
      ]
    },
    {
      "cell_type": "code",
      "source": [
        "# Renomeia id para evitar conflito com offer_id\n",
        "profile_df = profile_df.withColumnRenamed(\"id\", \"account_id\")\n",
        "\n",
        "base_df = base_df.join(profile_df, on=\"account_id\", how=\"left\")"
      ],
      "metadata": {
        "id": "83RilqyfqW4y"
      },
      "execution_count": 23,
      "outputs": []
    },
    {
      "cell_type": "code",
      "source": [
        "# Renomeia id para evitar conflito com account_id\n",
        "offers_df = offers_df.withColumnRenamed(\"id\", \"offer_id\")\n",
        "\n",
        "base_df = base_df.join(offers_df, on=\"offer_id\", how=\"left\")"
      ],
      "metadata": {
        "id": "5EQWBYJcqcoL"
      },
      "execution_count": 24,
      "outputs": []
    },
    {
      "cell_type": "markdown",
      "source": [],
      "metadata": {
        "id": "jMNSnZTziq1v"
      }
    },
    {
      "cell_type": "code",
      "source": [
        "# Tratamento de nulos e inconsistências\n",
        "base_df = base_df.filter(\n",
        "    base_df[\"age\"].isNotNull() &\n",
        "    base_df[\"gender\"].isin(\"F\", \"M\") &\n",
        "    base_df[\"credit_card_limit\"].isNotNull() &\n",
        "    base_df[\"offer_type\"].isNotNull() &\n",
        "    (base_df[\"age\"] > 10) & (base_df[\"age\"] < 100)\n",
        ")\n",
        "\n",
        "# Normalização do limite\n",
        "from pyspark.sql.functions import min as spark_min, max as spark_max, col\n",
        "\n",
        "min_lim = base_df.agg(spark_min(\"credit_card_limit\")).first()[0]\n",
        "max_lim = base_df.agg(spark_max(\"credit_card_limit\")).first()[0]\n",
        "\n",
        "base_df = base_df.withColumn(\n",
        "    \"credit_card_limit_norm\",\n",
        "    (col(\"credit_card_limit\") - min_lim) / (max_lim - min_lim)\n",
        ")\n",
        "\n",
        "\n",
        "base_df.toPandas().to_csv(\"base_df.csv\", index=False)\n"
      ],
      "metadata": {
        "id": "4TXo9yfVqe1r"
      },
      "execution_count": 25,
      "outputs": []
    }
  ]
}